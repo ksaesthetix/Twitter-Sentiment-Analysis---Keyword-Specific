{
 "cells": [
  {
   "cell_type": "code",
   "execution_count": 1,
   "metadata": {},
   "outputs": [],
   "source": [
    "import pandas as pd"
   ]
  },
  {
   "cell_type": "code",
   "execution_count": 22,
   "metadata": {},
   "outputs": [],
   "source": [
    "with open(\"foxnews.txt\") as f:\n",
    "    tweet= f.read()"
   ]
  },
  {
   "cell_type": "code",
   "execution_count": 26,
   "metadata": {},
   "outputs": [],
   "source": [
    "import re\n",
    "#remove links from file\n",
    "tweet = re.sub(r\"http\\S+\", \"\", tweet)\n",
    "#remove usernames from file\n",
    "tweet = re.sub(r\"@\\S+\", \"\", tweet)\n",
    "#remove special characters \n",
    "tweet = re.sub('[?!@#$%^&*()_+-\\;–./\\'’|‘]','', tweet)\n",
    "#remove 'RT  '\n",
    "tweet=tweet.replace('RT  ','')\n",
    "#convert to lower format\n",
    "tweet=tweet.lower()\n",
    "#save words in a list\n",
    "tweets=tweet.split()"
   ]
  },
  
Clean the Data
For cleaning the data we have used the Regex library, while cleaning we first remove the URL's, then we remove the usernames starting with '@', after that we remove special characters and string 'RT' followed by two white spaces that denotes a retweet. It is also important to change the case of all the given words to lower case as python is case sensitive and all the words in the positive, negative and stop word list are in lower case. At last store different words as different elements of a list.
  {
   "cell_type": "code",
   "execution_count": 27,
   "metadata": {},
   "outputs": [],
   "source": [
    "with open(\"positive.txt\") as p:\n",
    "    pwords= p.read().split()\n",
    "\n",
    "with open(\"negative.txt\") as n:\n",
    "    nwords= n.read().split()\n",
    "    \n",
    "with open(\"Stop word.txt\") as s:\n",
    "    swords= s.read().split()"
   ]
  },
  {
   "cell_type": "code",
   "execution_count": 28,
   "metadata": {},
   "outputs": [
    {
     "name": "stdout",
     "output_type": "stream",
     "text": [
      "The word count for the extracted document is 35850\n",
      "The word count for the positive words in the document is 1087\n",
      "The ratio of positive words to the whole word count is 0.0303\n",
      "The word count for the negative words in the document is 1028\n",
      "The ratio of negative words to the whole word count is 0.0287\n",
      "The word count for the stop words in the document is 12112\n",
      "The ratio of stop words to the whole word count is 0.3379\n",
      "The word count for other words in the document is 21623\n",
      "The ratio of other words to the whole word count is 0.6032\n"
     ]
    }
   ],
   "source": [
    "word_count=len (tweets)\n",
    "print(\"The word count for the extracted document is \"+ str(word_count))\n",
    "\n",
    "pcount=0\n",
    "ncount=0\n",
    "scount=0\n",
    "for i in (tweets):\n",
    "    if i in pwords :\n",
    "        pcount=pcount+1\n",
    "    elif i in nwords:\n",
    "        ncount=ncount+1\n",
    "    elif i in swords:\n",
    "        scount=scount+1\n",
    "        \n",
    "print(\"The word count for the positive words in the document is \"+ str(pcount))\n",
    "print(\"The ratio of positive words to the whole word count is \" +str(round(pcount/word_count,4)))\n",
    "\n",
    "\n",
    "print(\"The word count for the negative words in the document is \"+ str(ncount))\n",
    "print(\"The ratio of negative words to the whole word count is \" +str(round(ncount/word_count,4)))\n",
    "\n",
    "        \n",
    "print(\"The word count for the stop words in the document is \"+ str(scount))\n",
    "print(\"The ratio of stop words to the whole word count is \" +str(round(scount/word_count,4)))\n",
    "\n",
    "other_word_count= word_count-(pcount+ncount+scount)\n",
    "print(\"The word count for other words in the document is \"+ str(other_word_count))\n",
    "print(\"The ratio of other words to the whole word count is \" +str(round(other_word_count/word_count,4)))"
   ]
  },
  {
   "cell_type": "code",
   "execution_count": 30,
   "metadata": {},
   "outputs": [
    {
     "name": "stdout",
     "output_type": "stream",
     "text": [
      "Value for positive sentiment will be 1087\n",
      "Value for negative sentiment will be -1028\n",
      "Value for sentiment for the word 'america' will be 59\n",
      "Percentage of positive words 51.3948\n",
      "Percentage of negative words 48.6052\n"
     ]
    }
   ],
   "source": [
    "print(\"Value for positive sentiment will be \" +str(pcount))\n",
    "print(\"Value for negative sentiment will be \" +str(-ncount))\n",
    "print(\"Value for sentiment for the word \\'america\\' will be \" +str(pcount-ncount))\n",
    "print(\"Percentage of positive words \" +str(round(pcount*100/(pcount+ncount),4)))\n",
    "print(\"Percentage of negative words \" +str(round(ncount*100/(pcount+ncount),4)))"
   ]
  },
  {
   "cell_type": "code",
   "execution_count": null,
   "metadata": {},
   "outputs": [],
   "source": []
  }
 ],
 "metadata": {
  "kernelspec": {
   "display_name": "Python 3",
   "language": "python",
   "name": "python3"
  },
  "language_info": {
   "codemirror_mode": {
    "name": "ipython",
    "version": 3
   },
   "file_extension": ".py",
   "mimetype": "text/x-python",
   "name": "python",
   "nbconvert_exporter": "python",
   "pygments_lexer": "ipython3",
   "version": "3.8.5"
  }
 },
 "nbformat": 4,
 "nbformat_minor": 4
}
